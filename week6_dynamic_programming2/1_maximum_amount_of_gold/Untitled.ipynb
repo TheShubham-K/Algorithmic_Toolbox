{
 "cells": [
  {
   "cell_type": "code",
   "execution_count": null,
   "metadata": {},
   "outputs": [],
   "source": [
    "# Uses python3\n",
    "import sys\n",
    "\n",
    "def optimal_weight(W, w):\n",
    "    # write your code here\n",
    "    result = 0\n",
    "    for w in range(1, W):\n",
    "        resultt[w] = 0\n",
    "    for i in range(1,n)\n",
    "    \n",
    "    for x in w:\n",
    "        if result + x <= W:\n",
    "            result = result + x\n",
    "    return result\n",
    "\n",
    "if __name__ == '__main__':\n",
    "    input = sys.stdin.read()\n",
    "    W, n, *w = list(map(int, input.split()))\n",
    "    print(optimal_weight(W, w))"
   ]
  }
 ],
 "metadata": {
  "kernelspec": {
   "display_name": "Python 3",
   "language": "python",
   "name": "python3"
  },
  "language_info": {
   "codemirror_mode": {
    "name": "ipython",
    "version": 3
   },
   "file_extension": ".py",
   "mimetype": "text/x-python",
   "name": "python",
   "nbconvert_exporter": "python",
   "pygments_lexer": "ipython3",
   "version": "3.7.1"
  }
 },
 "nbformat": 4,
 "nbformat_minor": 2
}
