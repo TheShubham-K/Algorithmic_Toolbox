{
 "cells": [
  {
   "cell_type": "code",
   "execution_count": 6,
   "metadata": {},
   "outputs": [
    {
     "name": "stdout",
     "output_type": "stream",
     "text": [
      "shubham\n",
      "Kumar\n",
      "5\n"
     ]
    }
   ],
   "source": [
    "# Uses python3\n",
    "def edit_distance(s, t):\n",
    "    #write your code here\n",
    "    distance = [[0 for col in range(len(s) + 1)] for row in range(len(t) + 1)]\n",
    "    #print(distance)\n",
    "    for i in range(len(s) + 1):\n",
    "        distance[0][i] = i\n",
    "    for i in range(len(t) + 1):\n",
    "        distance[i][0] = i\n",
    "    for m in range(1, len(s) + 1):\n",
    "        for n in range(1, len(t) + 1):\n",
    "            ins = distance[n][m-1] + 1\n",
    "            de = distance[n-1][m] + 1\n",
    "            mat = distance[n-1][m-1]\n",
    "            mis = distance[n-1][m-1] + 1\n",
    "            if s[m-1] == t[n-1]:\n",
    "                distance[n][m] = min(ins, de, mat)\n",
    "            else:\n",
    "                distance[n][m] = min(ins, de, mis)\n",
    "    return distance[-1][-1]\n",
    "\n",
    "if __name__ == \"__main__\":\n",
    "    print(edit_distance(input(), input()))"
   ]
  },
  {
   "cell_type": "code",
   "execution_count": null,
   "metadata": {},
   "outputs": [],
   "source": [
    "import sys\n",
    "\n",
    "def lcs2(a, b):\n",
    "    #write your code here\n",
    "    L = [[0 for x in range(len(b) + 1)] for x in range(len(a) + 1)]\n",
    "    ins = [0]*4\n",
    "    for i in range(len(a)):\n",
    "        for j in range(len(b)):\n",
    "            ins[0] = L[i-1][j]\n",
    "            ins[1] = L[i][j-1]\n",
    "            ins[2] = L[i-1][j-1]\n",
    "              mat  = L[i-1][j-1] + 1\n",
    "            if a[i] == b[j]:\n",
    "                L[i][j] = max(max(ins), mat)\n",
    "            else:\n",
    "                L[i][j] = max(L[i-1][j], L[i][j-1])\n",
    "    return L[-1][-1]\n",
    "\n",
    "if __name__ == '__main__':\n",
    "    input = sys.stdin.read()\n",
    "    data = list(map(int, input.split()))\n",
    "\n",
    "    n = data[0]\n",
    "    data = data[1:]\n",
    "    a = data[:n]\n",
    "\n",
    "    data = data[n:]\n",
    "    m = data[0]\n",
    "    data = data[1:]\n",
    "    b = data[:m]\n",
    "\n",
    "    print(lcs2(a, b))"
   ]
  }
 ],
 "metadata": {
  "kernelspec": {
   "display_name": "Python 3",
   "language": "python",
   "name": "python3"
  },
  "language_info": {
   "codemirror_mode": {
    "name": "ipython",
    "version": 3
   },
   "file_extension": ".py",
   "mimetype": "text/x-python",
   "name": "python",
   "nbconvert_exporter": "python",
   "pygments_lexer": "ipython3",
   "version": "3.7.1"
  }
 },
 "nbformat": 4,
 "nbformat_minor": 2
}
