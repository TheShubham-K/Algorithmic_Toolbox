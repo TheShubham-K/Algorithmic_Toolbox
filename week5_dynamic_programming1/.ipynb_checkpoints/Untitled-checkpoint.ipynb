{
 "cells": [
  {
   "cell_type": "code",
   "execution_count": 6,
   "metadata": {},
   "outputs": [
    {
     "name": "stdout",
     "output_type": "stream",
     "text": [
      "shubham\n",
      "Kumar\n",
      "5\n"
     ]
    }
   ],
   "source": [
    "# Uses python3\n",
    "def edit_distance(s, t):\n",
    "    #write your code here\n",
    "    distance = [[0 for col in range(len(s) + 1)] for row in range(len(t) + 1)]\n",
    "    #print(distance)\n",
    "    for i in range(len(s) + 1):\n",
    "        distance[0][i] = i\n",
    "    for i in range(len(t) + 1):\n",
    "        distance[i][0] = i\n",
    "    for m in range(1, len(s) + 1):\n",
    "        for n in range(1, len(t) + 1):\n",
    "            ins = distance[n][m-1] + 1\n",
    "            de = distance[n-1][m] + 1\n",
    "            mat = distance[n-1][m-1]\n",
    "            mis = distance[n-1][m-1] + 1\n",
    "            if s[m-1] == t[n-1]:\n",
    "                distance[n][m] = min(ins, de, mat)\n",
    "            else:\n",
    "                distance[n][m] = min(ins, de, mis)\n",
    "    return distance[-1][-1]\n",
    "\n",
    "if __name__ == \"__main__\":\n",
    "    print(edit_distance(input(), input()))"
   ]
  },
  {
   "cell_type": "code",
   "execution_count": 17,
   "metadata": {},
   "outputs": [
    {
     "name": "stdout",
     "output_type": "stream",
     "text": [
      "[55, 10, 12, 29, 40, 52, 37, 74, 55, 80, 12, 5, 65, 64, 42, 50, 33, 77, 54, 81, 38, 3, 100, 52, 59, 12, 50, 46, 60]\n",
      "[17, 47, 88, 90, 69, 9, 57, 93, 55, 90, 27, 49, 17, 1, 60, 17, 77, 80, 24, 36, 97, 78, 44, 12, 7, 40, 57, 26, 37, 67, 57]\n",
      "0\n",
      "the running time is 0.00100 s\n"
     ]
    },
    {
     "data": {
      "text/plain": [
       "'    \\n    input = sys.stdin.read()\\n    data = list(map(int, input.split()))\\n\\n    n = data[0]\\n    data = data[1:]\\n    a = data[:n]\\n\\n    data = data[n:]\\n    m = data[0]\\n    data = data[1:]\\n    b = data[:m]\\n\\n    print(lcs2(a, b))\\n    \\n    '"
      ]
     },
     "execution_count": 17,
     "metadata": {},
     "output_type": "execute_result"
    }
   ],
   "source": [
    "import sys, random, time\n",
    "\n",
    "def lcs2(a, b):\n",
    "    #write your code here\n",
    "    L = [[\"\" for x in range(len(b) + 1)] for x in range(len(a) + 1)]\n",
    "    for i in range(len(a)):\n",
    "        for j in range(len(b)):\n",
    "            if a[i] == b[j]:\n",
    "                return 1 + L[i-1][j-1]\n",
    "            else:\n",
    "                return max(L[i-1][j], L[i][j-1])\n",
    "\n",
    "if __name__ == '__main__':\n",
    "    \n",
    "    \n",
    "    an = random.randint(0, 100)\n",
    "    a =[]\n",
    "    for i in range(an):\n",
    "        a.append(random.randint(0, 100))\n",
    "    bn = random.randint(30, 100)\n",
    "    b =[]\n",
    "    for i in range(bn):\n",
    "        b.append(random.randint(0, 100))\n",
    "    start = time.time()\n",
    "    print(a)\n",
    "    print(b)\n",
    "    result = lcs2(a, b)\n",
    "    end = time.time()\n",
    "    print(result)\n",
    "    print('the running time is %0.5f s' % (end-start))\n",
    "\n",
    "    \n",
    "'''    \n",
    "    input = sys.stdin.read()\n",
    "    data = list(map(int, input.split()))\n",
    "\n",
    "    n = data[0]\n",
    "    data = data[1:]\n",
    "    a = data[:n]\n",
    "\n",
    "    data = data[n:]\n",
    "    m = data[0]\n",
    "    data = data[1:]\n",
    "    b = data[:m]\n",
    "\n",
    "    print(lcs2(a, b))\n",
    "    \n",
    "    '''"
   ]
  }
 ],
 "metadata": {
  "kernelspec": {
   "display_name": "Python 3",
   "language": "python",
   "name": "python3"
  },
  "language_info": {
   "codemirror_mode": {
    "name": "ipython",
    "version": 3
   },
   "file_extension": ".py",
   "mimetype": "text/x-python",
   "name": "python",
   "nbconvert_exporter": "python",
   "pygments_lexer": "ipython3",
   "version": "3.7.1"
  }
 },
 "nbformat": 4,
 "nbformat_minor": 2
}
